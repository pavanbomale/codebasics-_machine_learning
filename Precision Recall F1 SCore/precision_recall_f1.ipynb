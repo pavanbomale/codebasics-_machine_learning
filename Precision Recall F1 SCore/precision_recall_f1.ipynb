{
 "cells": [
  {
   "cell_type": "code",
   "execution_count": 1,
   "id": "c4bd7cc4",
   "metadata": {},
   "outputs": [],
   "source": [
    "import pandas as pd\n",
    "from sklearn.datasets import load_digits\n",
    "from sklearn.linear_model import LogisticRegression\n",
    "from sklearn.model_selection import train_test_split, cross_val_predict, cross_val_score\n",
    "from sklearn.metrics import accuracy_score, confusion_matrix, precision_score, recall_score,f1_score\n",
    "import matplotlib.pyplot as plt\n",
    "import seaborn as sn"
   ]
  },
  {
   "cell_type": "code",
   "execution_count": 2,
   "id": "bea3d9fd",
   "metadata": {},
   "outputs": [],
   "source": [
    "df = load_digits()\n",
    "X = df.data\n",
    "y = df.target"
   ]
  },
  {
   "cell_type": "code",
   "execution_count": 3,
   "id": "3a32f67d",
   "metadata": {},
   "outputs": [],
   "source": [
    "X_train, X_test, y_train, y_test = train_test_split(X,y, test_size=0.2)"
   ]
  },
  {
   "cell_type": "code",
   "execution_count": 4,
   "id": "868cb016",
   "metadata": {},
   "outputs": [
    {
     "data": {
      "text/plain": [
       "LogisticRegression(max_iter=10000)"
      ]
     },
     "execution_count": 4,
     "metadata": {},
     "output_type": "execute_result"
    }
   ],
   "source": [
    "model = LogisticRegression(solver='lbfgs', max_iter=10000)\n",
    "model.fit(X_train, y_train)"
   ]
  },
  {
   "cell_type": "markdown",
   "id": "c3cf8523",
   "metadata": {},
   "source": [
    "# Checking the accuracy score"
   ]
  },
  {
   "cell_type": "code",
   "execution_count": 5,
   "id": "4e30377a",
   "metadata": {},
   "outputs": [],
   "source": [
    "predictions = model.predict(X_test)"
   ]
  },
  {
   "cell_type": "code",
   "execution_count": 6,
   "id": "535f92e3",
   "metadata": {},
   "outputs": [
    {
     "data": {
      "text/plain": [
       "0.9472222222222222"
      ]
     },
     "execution_count": 6,
     "metadata": {},
     "output_type": "execute_result"
    }
   ],
   "source": [
    "score = accuracy_score(y_test, predictions) #accuracy score is not a suitable way to evaluate model\n",
    "score"
   ]
  },
  {
   "cell_type": "markdown",
   "id": "4df46483",
   "metadata": {},
   "source": [
    "# Cross validation score"
   ]
  },
  {
   "cell_type": "code",
   "execution_count": 7,
   "id": "639c32e5",
   "metadata": {},
   "outputs": [
    {
     "data": {
      "text/plain": [
       "0.9596381350034795"
      ]
     },
     "execution_count": 7,
     "metadata": {},
     "output_type": "execute_result"
    }
   ],
   "source": [
    "cvs = cross_val_score(model, X_train, y_train, cv=3, scoring='accuracy',)\n",
    "cvs.mean()"
   ]
  },
  {
   "cell_type": "code",
   "execution_count": 8,
   "id": "927a2f31",
   "metadata": {},
   "outputs": [
    {
     "data": {
      "text/plain": [
       "array([3, 5, 0, ..., 1, 0, 6])"
      ]
     },
     "execution_count": 8,
     "metadata": {},
     "output_type": "execute_result"
    }
   ],
   "source": [
    "y_train_pred = cross_val_predict(model, X_train, y_train, cv=3)\n",
    "y_train_pred"
   ]
  },
  {
   "cell_type": "markdown",
   "id": "dcd3b005",
   "metadata": {},
   "source": [
    "# Plotting Confusion Matrix"
   ]
  },
  {
   "cell_type": "code",
   "execution_count": 9,
   "id": "a48626a3",
   "metadata": {},
   "outputs": [
    {
     "data": {
      "text/plain": [
       "<AxesSubplot:>"
      ]
     },
     "execution_count": 9,
     "metadata": {},
     "output_type": "execute_result"
    },
    {
     "data": {
      "image/png": "[encoded data removed]",
      "text/plain": [
       "<Figure size 432x288 with 2 Axes>"
      ]
     },
     "metadata": {
      "needs_background": "light"
     },
     "output_type": "display_data"
    }
   ],
   "source": [
    "cm = confusion_matrix(y_test, predictions)\n",
    "sn.heatmap(cm, annot=True)"
   ]
  },
  {
   "cell_type": "markdown",
   "id": "58a90446",
   "metadata": {},
   "source": [
    "# A confusion matrix with no error at all"
   ]
  },
  {
   "cell_type": "code",
   "execution_count": 10,
   "id": "665b292d",
   "metadata": {},
   "outputs": [
    {
     "data": {
      "text/plain": [
       "<AxesSubplot:>"
      ]
     },
     "execution_count": 10,
     "metadata": {},
     "output_type": "execute_result"
    },
    {
     "data": {
      "image/png": "[encoded data removed]",
      "text/plain": [
       "<Figure size 432x288 with 2 Axes>"
      ]
     },
     "metadata": {
      "needs_background": "light"
     },
     "output_type": "display_data"
    }
   ],
   "source": [
    "sn.heatmap(confusion_matrix(y_test, y_test), annot=True) #observe all the zero values at non-diagonal positions"
   ]
  },
  {
   "cell_type": "markdown",
   "id": "67ba4add",
   "metadata": {},
   "source": [
    "# Precision, Recall and F1 Score"
   ]
  },
  {
   "cell_type": "code",
   "execution_count": 11,
   "id": "d558d38e",
   "metadata": {},
   "outputs": [
    {
     "data": {
      "text/plain": [
       "0.9599812750159785"
      ]
     },
     "execution_count": 11,
     "metadata": {},
     "output_type": "execute_result"
    }
   ],
   "source": [
    "precision_score(y_train, y_train_pred, average='macro')"
   ]
  },
  {
   "cell_type": "code",
   "execution_count": 12,
   "id": "6353a389",
   "metadata": {},
   "outputs": [
    {
     "data": {
      "text/plain": [
       "0.9592894084329121"
      ]
     },
     "execution_count": 12,
     "metadata": {},
     "output_type": "execute_result"
    }
   ],
   "source": [
    "recall_score(y_train, y_train_pred, average='macro')"
   ]
  },
  {
   "cell_type": "code",
   "execution_count": 13,
   "id": "2f795054",
   "metadata": {},
   "outputs": [
    {
     "data": {
      "text/plain": [
       "0.959499786477339"
      ]
     },
     "execution_count": 13,
     "metadata": {},
     "output_type": "execute_result"
    }
   ],
   "source": [
    "f1_score(y_train, y_train_pred, average='macro')"
   ]
  },
  {
   "cell_type": "code",
   "execution_count": 14,
   "id": "7e56d245",
   "metadata": {},
   "outputs": [
    {
     "data": {
      "text/plain": [
       "array([[ -3.18509114,  -4.3896758 ,   8.90808862, ...,  -1.48137467,\n",
       "          3.78238906,   3.47523044],\n",
       "       [ -0.33659619, -13.31972755,  -4.22486258, ...,  -7.72896099,\n",
       "          2.40718513,  11.1884249 ],\n",
       "       [ 18.743396  ,  -4.12424218,  -0.82177269, ...,   2.91684192,\n",
       "         -1.60529592,  -5.41378182],\n",
       "       ...,\n",
       "       [ -4.62114187,  10.48038357,   3.55114251, ...,  -7.86073166,\n",
       "          7.58665179,  -7.217617  ],\n",
       "       [ 20.70593689,  -8.42153125,  -7.1724434 , ...,  -5.36622245,\n",
       "          4.39187201,  -3.37401028],\n",
       "       [  0.93293884,   3.98975813,  -5.20451379, ...,  -8.11050981,\n",
       "          7.88248669,  -9.33906996]])"
      ]
     },
     "execution_count": 14,
     "metadata": {},
     "output_type": "execute_result"
    }
   ],
   "source": [
    "y_scores = cross_val_predict(model, X_train, y_train, cv=3, method='decision_function')\n",
    "y_scores"
   ]
  }
 ],
 "metadata": {
  "kernelspec": {
   "display_name": "Python 3 (ipykernel)",
   "language": "python",
   "name": "python3"
  },
  "language_info": {
   "codemirror_mode": {
    "name": "ipython",
    "version": 3
   },
   "file_extension": ".py",
   "mimetype": "text/x-python",
   "name": "python",
   "nbconvert_exporter": "python",
   "pygments_lexer": "ipython3",
   "version": "3.9.7"
  }
 },
 "nbformat": 4,
 "nbformat_minor": 5
}
